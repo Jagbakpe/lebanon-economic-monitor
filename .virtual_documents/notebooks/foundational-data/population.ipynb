import geopandas as gpd
import matplotlib.pyplot as plt
import rasterio

from rasterio.mask import mask
from shapely.geometry import mapping

from acled_country_analysis import analysis

import pandas as pd





LEBANON_ADM3 = gpd.read_file('../../data/shapefiles/lbn_adm_cdr_20200810/lbn_admbnda_adm3_cdr_20200810.shp')
LEBANON_ADM4 = gpd.read_file('../../data/shapefiles/lbn_beirut_adm4_mapaction_pcoded/lbn_beirut_adm4_MapAction_Pcoded.shp')
LEBANON_ADM0 = gpd.read_file('../../data/shapefiles/lbn_adm_cdr_20200810/lbn_admbnda_adm0_cdr_20200810.shp')


LEBANON_ADM1 = gpd.read_file('../../data/shapefiles/lbn_adm_cdr_20200810/lbn_admbnda_adm1_cdr_20200810.shp')
LEBANON_ADM2 = gpd.read_file('../../data/shapefiles/lbn_adm_cdr_20200810/lbn_admbnda_adm2_cdr_20200810.shp')


hrsl = pd.read_csv('../../data/population/2023/population_lat_30_lon_30.csv')
lebanon_bbox = (35.1260526873, 33.0890400254, 36.6117501157, 34.6449140488)
hrsl = hrsl[(hrsl['longitude']>35.1260526873)&(hrsl['longitude']<36.6117501157)&(hrsl['latitude']>33.0890400254)&(hrsl['latitude']<34.6449140488)]


hrsl = analysis.convert_to_gdf(hrsl)


hrsl_lebanon0 = LEBANON_ADM0.sjoin(hrsl)
hrsl_lebanon1 = LEBANON_ADM1.sjoin(hrsl)


hrsl_lebanon0 = LEBANON_ADM0.sjoin(hrsl)
hrsl_lebanon0 = hrsl_lebanon0.groupby(['admin0Name']).sum()

hrsl_lebanon3 = LEBANON_ADM3.sjoin(hrsl)


hrsl_lebanon3 = hrsl_lebanon3.groupby(['admin0Name', 'admin1Name', 'admin2Name','admin3Name']).sum().reset_index()[['admin0Name', 'admin1Name', 'admin3Name', 'population']]
hrsl_lebanon3 = hrsl_lebanon3.merge(LEBANON_ADM3[['admin0Name', 'admin1Name', 'admin3Name', 'geometry']], on = ['admin0Name', 'admin1Name', 'admin3Name'])

hrsl_lebanon3 = gpd.GeoDataFrame(hrsl_lebanon3, crs="EPSG:4326", geometry='geometry')


import matplotlib.pyplot as plt
import matplotlib

# Set the default font family
matplotlib.rcParams['font.family'] = 'Georgia'  # Change 'serif' to your desired font family



import matplotlib.pyplot as plt

fig, ax = plt.subplots()
plt.axis('off')
hrsl_lebanon3.plot(column='population', cmap='viridis',vmax = 100000, legend = True, ax=ax)
plt.title('Total population by admin 3 region', fontsize=12, ha='center')

subtitle_text = "Source: Population estimates from Meta's HRSL aggregated to admin regions from HdX"
ax.text(-0.25, -0.05, subtitle_text, transform=ax.transAxes, fontsize=10, ha='left')





rw = pd.read_csv('../../data/LBN_relative_wealth_index.csv')
rw = analysis.convert_to_gdf(rw)


fig, ax = plt.subplots()
plt.axis('off')
rw.plot(column = 'rwi', legend = True, ax=ax, markersize=5)

plt.title('Relative Wealth Index at 2.4sq km grids', fontsize=12, ha='center')

subtitle_text = "Source: Meta"
ax.text(-0.25, -0.05, subtitle_text, transform=ax.transAxes, fontsize=10, ha='left')












