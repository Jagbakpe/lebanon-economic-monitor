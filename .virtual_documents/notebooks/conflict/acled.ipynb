


%load_ext autoreload
%autoreload 2

import requests
import pandas as pd
import matplotlib.pyplot as plt
import geopandas as gpd

from datetime import datetime

from acled_country_analysis import analysis
from acled_country_analysis import visuals

import bokeh
from bokeh.models import Title, Legend, TapTool, Range1d, Tabs, Panel
from bokeh.core.validation.warnings import EMPTY_LAYOUT, MISSING_RENDERERS
from bokeh.plotting import figure, output_file, show, output_notebook








#acled.to_csv('../../data/acled/acled_lebanon_2016_2023.csv')
acled = pd.read_csv('../../data/acled/2012-01-01-2023-08-21-Lebanon.csv')


ucdp = pd.read_csv('../../data/ucdp_conflict/gedevents-2023-08-23.csv')


from shapely.geometry import Point
import re

def extract_second_number(input_string):
    # Use regular expressions to find all numbers in the input string
    numbers = re.findall(r'[-+]?\d*\.\d+|\d+', input_string)
    
    # Check if there is at least a second number
    if len(numbers) >= 2:
        # Return the second number as a float
        return float(numbers[1])
    else:
        # Return None if there is no second number
        return None


ucdp['longitude'] = ucdp['longitude'].apply(lambda x: extract_second_number(x))
ucdp.rename(columns={'latitude':'longitude', 'longitude':'latitude'}, inplace=True)

ucdp['deaths_total'] = ucdp[[ 'deaths_a',
       'deaths_b', 'deaths_civilians', 'deaths_unknown']].fillna(0).sum(axis=1)

ucdp['date_start'] = ucdp['date_start'].apply(lambda x: datetime.strptime(x, "%m/%d/%Y %H:%M:%S"))


lebanon_adm0 = gpd.read_file('../../data/shapefiles/lbn_adm_cdr_20200810/lbn_admbnda_adm0_cdr_20200810.shp')
lebanon_adm1 = gpd.read_file('../../data/shapefiles/lbn_adm_cdr_20200810/lbn_admbnda_adm1_cdr_20200810.shp')
lebanon_adm2 = gpd.read_file('../../data/shapefiles/lbn_adm_cdr_20200810/lbn_admbnda_adm2_cdr_20200810.shp')
lebanon_adm3 = gpd.read_file('../../data/shapefiles/lbn_adm_cdr_20200810/lbn_admbnda_adm3_cdr_20200810.shp')


#acled = gpd.GeoDataFrame(acled, geometry=gpd.points_from_xy(acled['longitude'], acled['latitude']))
acled['event_date'] = acled['event_date'].apply(lambda x: datetime.strptime(x, "%d %B %Y"))


acled_adm1 = analysis.get_acled_by_admin(lebanon_adm1, acled, columns=['admin1Name'] )
acled_adm0 = analysis.get_acled_by_admin(lebanon_adm0, acled, columns = ['admin0Name'])
acled_adm2 = analysis.get_acled_by_admin(lebanon_adm2, acled, columns = ['admin0Name', 'admin1Name', 'admin2Name'])
acled_adm3 = analysis.get_acled_by_admin(lebanon_adm3, acled, columns = ['admin0Name', 'admin1Name', 'admin2Name', 'admin3Name'])


ucdp_adm0 = analysis.get_acled_by_admin(lebanon_adm0, ucdp, columns = ['admin0Name'], event_date = 'date_start', fatalities='deaths_total')


output_notebook()
bokeh.core.validation.silence(EMPTY_LAYOUT, True)
bokeh.core.validation.silence(MISSING_RENDERERS, True)

tabs = []
titles =['Number of conflict events at a national level', 'Number of fatalities at a national level']

#df = get_acled_by_admin(myanmar_adm1, acled, columns = ['country'])
for idx, type in enumerate(['nrEvents', 'fatalities']):

    tabs.append(
        Panel(
        child=visuals.get_line_plot(ucdp_adm0, f"{titles[idx]}", "Source: UCDP", earthquakes=False, subtitle = '', category = 'admin0Name', measure = type, event_date='date_start'),
                    title=type.capitalize(),
                )  
                )

tabs = Tabs(tabs=tabs, sizing_mode="scale_both")
show(tabs, warn_on_missing_glyphs=False)


output_notebook()
bokeh.core.validation.silence(EMPTY_LAYOUT, True)
bokeh.core.validation.silence(MISSING_RENDERERS, True)

tabs = []
titles =['Number of conflict events at a national level', 'Number of fatalities at a national level']

#df = get_acled_by_admin(myanmar_adm1, acled, columns = ['country'])
for idx, type in enumerate(['nrEvents', 'fatalities']):

    tabs.append(
        Panel(
        child=visuals.get_line_plot(acled_adm0, f"{titles[idx]}", "Source: ACLED", earthquakes=False, subtitle = '', category = 'admin0Name', measure = type),
                    title=type.capitalize(),
                )  
                )

tabs = Tabs(tabs=tabs, sizing_mode="scale_both")
show(tabs, warn_on_missing_glyphs=False)


output_notebook()
bokeh.core.validation.silence(EMPTY_LAYOUT, True)
bokeh.core.validation.silence(MISSING_RENDERERS, True)

tabs = []
titles =['Number of conflict events', 'Number of fatalities']

for idx, type in enumerate(['nrEvents', 'fatalities']):
    tabs.append(
        Panel(
        child=visuals.get_line_plot(acled_adm1, f"{titles[idx]} by admin 1", "Source: ACLED", subtitle = '', category = 'admin1Name', measure = type),
                    title=type.capitalize(),
                )
                )

tabs = Tabs(tabs=tabs, sizing_mode="scale_both")
show(tabs, warn_on_missing_glyphs=False)


acled_events = analysis.get_acled_by_admin(lebanon_adm0, acled, columns = ['event_type'])


output_notebook()
bokeh.core.validation.silence(EMPTY_LAYOUT, True)
bokeh.core.validation.silence(MISSING_RENDERERS, True)

tabs = []
titles =['Number of conflict events', 'Number of fatalities']

for idx, type in enumerate(['nrEvents', 'fatalities']):
    tabs.append(
        Panel(
        child=visuals.get_line_plot(acled_events, f"{titles[idx]} by event type", "Source: ACLED", subtitle = '', category = 'event_type', measure = type),
                    title=type.capitalize(),
                )
                )

tabs = Tabs(tabs=tabs, sizing_mode="scale_both")
show(tabs, warn_on_missing_glyphs=False)





acled_adm1[['event_date', 'admin1Name', 'fatalities', 'nrEvents']].to_csv('../../data/acled/acled_admin1.csv')
acled_adm2[['event_date','admin1Name', 'admin2Name', 'fatalities', 'nrEvents']].to_csv('../../data/acled/acled_admin2.csv')
acled_events[['event_date', 'event_type', 'fatalities', 'nrEvents']].to_csv('../../data/acled/acled_events.csv')
acled_adm3[['event_date', 'admin1Name', 'admin2Name','admin3Name', 'fatalities', 'nrEvents']].to_csv('../../data/acled/acled_admin3.csv')






